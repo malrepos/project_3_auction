{
 "cells": [
  {
   "cell_type": "code",
   "execution_count": 15,
   "id": "30982cb5",
   "metadata": {},
   "outputs": [],
   "source": [
    "import os\n",
    "import json\n",
    "from web3 import Web3\n",
    "from pathlib import Path\n",
    "from dotenv import load_dotenv\n",
    "# Import the helper function from the pinata.py file\n",
    "from pinata import convert_data_to_json, pin_file_to_ipfs, pin_json_to_ipfs\n",
    "from solcx import compile_standard, install_solc\n"
   ]
  },
  {
   "cell_type": "code",
   "execution_count": 21,
   "id": "0428861f",
   "metadata": {},
   "outputs": [
    {
     "name": "stdout",
     "output_type": "stream",
     "text": [
      "Installing solc...\n"
     ]
    },
    {
     "data": {
      "text/plain": [
       "Version('0.8.17')"
      ]
     },
     "execution_count": 21,
     "metadata": {},
     "output_type": "execute_result"
    }
   ],
   "source": [
    "with open(\"./contracts/auction.sol\", \"r\") as file:\n",
    "    auction_file = file.read()\n",
    "\n",
    "print(\"Installing solc...\")\n",
    "            # adjust version!\n",
    "install_solc('0.8.17')\n"
   ]
  },
  {
   "cell_type": "code",
   "execution_count": 25,
   "id": "ad5aceca",
   "metadata": {},
   "outputs": [],
   "source": [
    "# Configure compile standards (adjust version!)\n",
    "compiled_sol = compile_standard(\n",
    "    {\n",
    "        \"language\": \"Solidity\",\n",
    "                   # fileName.sol\n",
    "        \"sources\": {\"auction.sol\": {\"content\": auction_file}},\n",
    "        \"settings\": {\n",
    "            \"outputSelection\": {\n",
    "                \"*\": {\n",
    "                    \"*\": [\"abi\", \"metadata\", \"evm.bytecode\", \"evm.bytecode.sourceMap\"]\n",
    "                }\n",
    "            }\n",
    "        }\n",
    "    },\n",
    "            # update version\n",
    "    solc_version=\"0.8.17\"\n",
    ")\n",
    "\n",
    "# Dump the compiled code to see the structure of the code\n",
    "with open(\"./contracts/compiled/auction_python.json\", \"w\") as file:\n",
    "    json.dump(compiled_sol, file)"
   ]
  },
  {
   "cell_type": "code",
   "execution_count": 28,
   "id": "a0a81b83",
   "metadata": {},
   "outputs": [],
   "source": [
    "# Get the bytecode and abi (from json format)\n",
    "# [\"contracts\"][\"fileName.sol\"][\"contractName\"][\"evm\"][\"bytecode\"][\"object\"]\n",
    "\n",
    "bytecode = compiled_sol[\"contracts\"][\"auction.sol\"][\"Auction\"][\"evm\"][\"bytecode\"][\"object\"]\n",
    "\n",
    "abi = compiled_sol[\"contracts\"][\"auction.sol\"][\"Auction\"][\"abi\"]"
   ]
  },
  {
   "cell_type": "code",
   "execution_count": 29,
   "id": "cab98503",
   "metadata": {},
   "outputs": [],
   "source": [
    "load_dotenv()\n",
    "\n",
    "# Define and connect a new Web3 provider\n",
    "w3 = Web3(Web3.HTTPProvider(os.getenv(\"WEB3_PROVIDER_URI\")))"
   ]
  },
  {
   "cell_type": "code",
   "execution_count": 30,
   "id": "533f8297",
   "metadata": {},
   "outputs": [],
   "source": [
    "################################################################################\n",
    "# Load_Contract Function\n",
    "################################################################################\n",
    "\n",
    "def load_contract():\n",
    "\n",
    "    # Create the contract with the provider using the abi and bytecode.\n",
    "    contract = w3.eth.contract(\n",
    "        bytecode=bytecode,\n",
    "        abi=abi\n",
    "    )\n",
    "\n",
    "    return contract\n",
    "\n",
    "\n",
    "# Load the contract\n",
    "contract = load_contract()"
   ]
  },
  {
   "cell_type": "code",
   "execution_count": 33,
   "id": "026637f8",
   "metadata": {},
   "outputs": [],
   "source": [
    "# Get latest transaction count and use it as the nonce \n",
    "# Ganache address\n",
    "address = \"0x0e34A93a265aF40F44bfb27b6d880888139c7FB2\"\n",
    "nonce = w3.eth.getTransactionCount(address)"
   ]
  },
  {
   "cell_type": "code",
   "execution_count": 34,
   "id": "ffda5101",
   "metadata": {},
   "outputs": [
    {
     "ename": "TypeError",
     "evalue": "Incorrect argument count.  Expected '3'.  Got '0'",
     "output_type": "error",
     "traceback": [
      "\u001b[0;31m---------------------------------------------------------------------------\u001b[0m",
      "\u001b[0;31mTypeError\u001b[0m                                 Traceback (most recent call last)",
      "Cell \u001b[0;32mIn [34], line 3\u001b[0m\n\u001b[1;32m      1\u001b[0m \u001b[38;5;66;03m# Submit the transaction that deploys contract using the chainId, gasPrice, from (which addr) and nonce\u001b[39;00m\n\u001b[0;32m----> 3\u001b[0m transaction \u001b[38;5;241m=\u001b[39m contract\u001b[38;5;241m.\u001b[39mconstructor()\u001b[38;5;241m.\u001b[39mbuildTransaction(\n\u001b[1;32m      4\u001b[0m     {\n\u001b[1;32m      5\u001b[0m         \u001b[38;5;124m\"\u001b[39m\u001b[38;5;124mchainId\u001b[39m\u001b[38;5;124m\"\u001b[39m: chain_id,\n\u001b[1;32m      6\u001b[0m         \u001b[38;5;124m\"\u001b[39m\u001b[38;5;124mgasPrice\u001b[39m\u001b[38;5;124m\"\u001b[39m: w3\u001b[38;5;241m.\u001b[39meth\u001b[38;5;241m.\u001b[39mgas_price,\n\u001b[1;32m      7\u001b[0m         \u001b[38;5;124m\"\u001b[39m\u001b[38;5;124mfrom\u001b[39m\u001b[38;5;124m\"\u001b[39m: address,\n\u001b[1;32m      8\u001b[0m         \u001b[38;5;124m\"\u001b[39m\u001b[38;5;124mnonce\u001b[39m\u001b[38;5;124m\"\u001b[39m: nonce\n\u001b[1;32m      9\u001b[0m     }\n\u001b[1;32m     10\u001b[0m )\n",
      "File \u001b[0;32m~/miniforge3/envs/dev/lib/python3.8/site-packages/web3/contract.py:391\u001b[0m, in \u001b[0;36mContract.constructor\u001b[0;34m(cls, *args, **kwargs)\u001b[0m\n\u001b[1;32m    385\u001b[0m \u001b[38;5;28;01mif\u001b[39;00m \u001b[38;5;28mcls\u001b[39m\u001b[38;5;241m.\u001b[39mbytecode \u001b[38;5;129;01mis\u001b[39;00m \u001b[38;5;28;01mNone\u001b[39;00m:\n\u001b[1;32m    386\u001b[0m     \u001b[38;5;28;01mraise\u001b[39;00m \u001b[38;5;167;01mValueError\u001b[39;00m(\n\u001b[1;32m    387\u001b[0m         \u001b[38;5;124m\"\u001b[39m\u001b[38;5;124mCannot call constructor on a contract that does not have \u001b[39m\u001b[38;5;124m'\u001b[39m\u001b[38;5;124mbytecode\u001b[39m\u001b[38;5;124m'\u001b[39m\u001b[38;5;124m associated \u001b[39m\u001b[38;5;124m\"\u001b[39m\n\u001b[1;32m    388\u001b[0m         \u001b[38;5;124m\"\u001b[39m\u001b[38;5;124mwith it\u001b[39m\u001b[38;5;124m\"\u001b[39m\n\u001b[1;32m    389\u001b[0m     )\n\u001b[0;32m--> 391\u001b[0m \u001b[38;5;28;01mreturn\u001b[39;00m \u001b[43mContractConstructor\u001b[49m\u001b[43m(\u001b[49m\u001b[38;5;28;43mcls\u001b[39;49m\u001b[38;5;241;43m.\u001b[39;49m\u001b[43mweb3\u001b[49m\u001b[43m,\u001b[49m\n\u001b[1;32m    392\u001b[0m \u001b[43m                           \u001b[49m\u001b[38;5;28;43mcls\u001b[39;49m\u001b[38;5;241;43m.\u001b[39;49m\u001b[43mabi\u001b[49m\u001b[43m,\u001b[49m\n\u001b[1;32m    393\u001b[0m \u001b[43m                           \u001b[49m\u001b[38;5;28;43mcls\u001b[39;49m\u001b[38;5;241;43m.\u001b[39;49m\u001b[43mbytecode\u001b[49m\u001b[43m,\u001b[49m\n\u001b[1;32m    394\u001b[0m \u001b[43m                           \u001b[49m\u001b[38;5;241;43m*\u001b[39;49m\u001b[43margs\u001b[49m\u001b[43m,\u001b[49m\n\u001b[1;32m    395\u001b[0m \u001b[43m                           \u001b[49m\u001b[38;5;241;43m*\u001b[39;49m\u001b[38;5;241;43m*\u001b[39;49m\u001b[43mkwargs\u001b[49m\u001b[43m)\u001b[49m\n",
      "File \u001b[0;32m~/miniforge3/envs/dev/lib/python3.8/site-packages/web3/contract.py:604\u001b[0m, in \u001b[0;36mContractConstructor.__init__\u001b[0;34m(self, web3, abi, bytecode, *args, **kwargs)\u001b[0m\n\u001b[1;32m    602\u001b[0m \u001b[38;5;28mself\u001b[39m\u001b[38;5;241m.\u001b[39mabi \u001b[38;5;241m=\u001b[39m abi\n\u001b[1;32m    603\u001b[0m \u001b[38;5;28mself\u001b[39m\u001b[38;5;241m.\u001b[39mbytecode \u001b[38;5;241m=\u001b[39m bytecode\n\u001b[0;32m--> 604\u001b[0m \u001b[38;5;28mself\u001b[39m\u001b[38;5;241m.\u001b[39mdata_in_transaction \u001b[38;5;241m=\u001b[39m \u001b[38;5;28;43mself\u001b[39;49m\u001b[38;5;241;43m.\u001b[39;49m\u001b[43m_encode_data_in_transaction\u001b[49m\u001b[43m(\u001b[49m\u001b[38;5;241;43m*\u001b[39;49m\u001b[43margs\u001b[49m\u001b[43m,\u001b[49m\u001b[43m \u001b[49m\u001b[38;5;241;43m*\u001b[39;49m\u001b[38;5;241;43m*\u001b[39;49m\u001b[43mkwargs\u001b[49m\u001b[43m)\u001b[49m\n",
      "File \u001b[0;32m~/miniforge3/envs/dev/lib/python3.8/site-packages/eth_utils/decorators.py:18\u001b[0m, in \u001b[0;36mcombomethod.__get__.<locals>._wrapper\u001b[0;34m(*args, **kwargs)\u001b[0m\n\u001b[1;32m     15\u001b[0m \u001b[38;5;129m@functools\u001b[39m\u001b[38;5;241m.\u001b[39mwraps(\u001b[38;5;28mself\u001b[39m\u001b[38;5;241m.\u001b[39mmethod)\n\u001b[1;32m     16\u001b[0m \u001b[38;5;28;01mdef\u001b[39;00m \u001b[38;5;21m_wrapper\u001b[39m(\u001b[38;5;241m*\u001b[39margs: Any, \u001b[38;5;241m*\u001b[39m\u001b[38;5;241m*\u001b[39mkwargs: Any) \u001b[38;5;241m-\u001b[39m\u001b[38;5;241m>\u001b[39m Any:\n\u001b[1;32m     17\u001b[0m     \u001b[38;5;28;01mif\u001b[39;00m obj \u001b[38;5;129;01mis\u001b[39;00m \u001b[38;5;129;01mnot\u001b[39;00m \u001b[38;5;28;01mNone\u001b[39;00m:\n\u001b[0;32m---> 18\u001b[0m         \u001b[38;5;28;01mreturn\u001b[39;00m \u001b[38;5;28;43mself\u001b[39;49m\u001b[38;5;241;43m.\u001b[39;49m\u001b[43mmethod\u001b[49m\u001b[43m(\u001b[49m\u001b[43mobj\u001b[49m\u001b[43m,\u001b[49m\u001b[43m \u001b[49m\u001b[38;5;241;43m*\u001b[39;49m\u001b[43margs\u001b[49m\u001b[43m,\u001b[49m\u001b[43m \u001b[49m\u001b[38;5;241;43m*\u001b[39;49m\u001b[38;5;241;43m*\u001b[39;49m\u001b[43mkwargs\u001b[49m\u001b[43m)\u001b[49m\n\u001b[1;32m     19\u001b[0m     \u001b[38;5;28;01melse\u001b[39;00m:\n\u001b[1;32m     20\u001b[0m         \u001b[38;5;28;01mreturn\u001b[39;00m \u001b[38;5;28mself\u001b[39m\u001b[38;5;241m.\u001b[39mmethod(objtype, \u001b[38;5;241m*\u001b[39margs, \u001b[38;5;241m*\u001b[39m\u001b[38;5;241m*\u001b[39mkwargs)\n",
      "File \u001b[0;32m~/miniforge3/envs/dev/lib/python3.8/site-packages/web3/contract.py:616\u001b[0m, in \u001b[0;36mContractConstructor._encode_data_in_transaction\u001b[0;34m(self, *args, **kwargs)\u001b[0m\n\u001b[1;32m    613\u001b[0m     \u001b[38;5;28;01mif\u001b[39;00m \u001b[38;5;129;01mnot\u001b[39;00m kwargs:\n\u001b[1;32m    614\u001b[0m         kwargs \u001b[38;5;241m=\u001b[39m {}\n\u001b[0;32m--> 616\u001b[0m     arguments \u001b[38;5;241m=\u001b[39m \u001b[43mmerge_args_and_kwargs\u001b[49m\u001b[43m(\u001b[49m\u001b[43mconstructor_abi\u001b[49m\u001b[43m,\u001b[49m\u001b[43m \u001b[49m\u001b[43margs\u001b[49m\u001b[43m,\u001b[49m\u001b[43m \u001b[49m\u001b[43mkwargs\u001b[49m\u001b[43m)\u001b[49m\n\u001b[1;32m    617\u001b[0m     data \u001b[38;5;241m=\u001b[39m add_0x_prefix(\n\u001b[1;32m    618\u001b[0m         encode_abi(\u001b[38;5;28mself\u001b[39m\u001b[38;5;241m.\u001b[39mweb3, constructor_abi, arguments, data\u001b[38;5;241m=\u001b[39m\u001b[38;5;28mself\u001b[39m\u001b[38;5;241m.\u001b[39mbytecode)\n\u001b[1;32m    619\u001b[0m     )\n\u001b[1;32m    620\u001b[0m \u001b[38;5;28;01melse\u001b[39;00m:\n",
      "File \u001b[0;32m~/miniforge3/envs/dev/lib/python3.8/site-packages/web3/_utils/abi.py:440\u001b[0m, in \u001b[0;36mmerge_args_and_kwargs\u001b[0;34m(function_abi, args, kwargs)\u001b[0m\n\u001b[1;32m    438\u001b[0m \u001b[38;5;66;03m# Ensure the function is being applied to the correct number of args\u001b[39;00m\n\u001b[1;32m    439\u001b[0m \u001b[38;5;28;01mif\u001b[39;00m \u001b[38;5;28mlen\u001b[39m(args) \u001b[38;5;241m+\u001b[39m \u001b[38;5;28mlen\u001b[39m(kwargs) \u001b[38;5;241m!=\u001b[39m \u001b[38;5;28mlen\u001b[39m(function_abi\u001b[38;5;241m.\u001b[39mget(\u001b[38;5;124m'\u001b[39m\u001b[38;5;124minputs\u001b[39m\u001b[38;5;124m'\u001b[39m, [])):\n\u001b[0;32m--> 440\u001b[0m     \u001b[38;5;28;01mraise\u001b[39;00m \u001b[38;5;167;01mTypeError\u001b[39;00m(\n\u001b[1;32m    441\u001b[0m         \u001b[38;5;124m\"\u001b[39m\u001b[38;5;124mIncorrect argument count.  Expected \u001b[39m\u001b[38;5;124m'\u001b[39m\u001b[38;5;132;01m{0}\u001b[39;00m\u001b[38;5;124m'\u001b[39m\u001b[38;5;124m.  Got \u001b[39m\u001b[38;5;124m'\u001b[39m\u001b[38;5;132;01m{1}\u001b[39;00m\u001b[38;5;124m'\u001b[39m\u001b[38;5;124m\"\u001b[39m\u001b[38;5;241m.\u001b[39mformat(\n\u001b[1;32m    442\u001b[0m             \u001b[38;5;28mlen\u001b[39m(function_abi[\u001b[38;5;124m'\u001b[39m\u001b[38;5;124minputs\u001b[39m\u001b[38;5;124m'\u001b[39m]),\n\u001b[1;32m    443\u001b[0m             \u001b[38;5;28mlen\u001b[39m(args) \u001b[38;5;241m+\u001b[39m \u001b[38;5;28mlen\u001b[39m(kwargs),\n\u001b[1;32m    444\u001b[0m         )\n\u001b[1;32m    445\u001b[0m     )\n\u001b[1;32m    447\u001b[0m \u001b[38;5;66;03m# If no keyword args were given, we don't need to align them\u001b[39;00m\n\u001b[1;32m    448\u001b[0m \u001b[38;5;28;01mif\u001b[39;00m \u001b[38;5;129;01mnot\u001b[39;00m kwargs:\n",
      "\u001b[0;31mTypeError\u001b[0m: Incorrect argument count.  Expected '3'.  Got '0'"
     ]
    }
   ],
   "source": [
    "# Submit the transaction that deploys contract using the chainId, gasPrice, from (which addr) and nonce\n",
    "\n",
    "# set deployment parameters\n",
    "duration_sec = 600\n",
    "beneficiary = \"0xF45e042B2DD3570ddBe784317364cb1f5E7cfebf\"\n",
    "\n",
    "\n",
    "transaction = contract.constructor().buildTransaction(\n",
    "    {\n",
    "        \"chainId\": chain_id,\n",
    "        \"gasPrice\": w3.eth.gas_price,\n",
    "        \"from\": address,\n",
    "        \"nonce\": nonce\n",
    "    }\n",
    ")"
   ]
  },
  {
   "cell_type": "code",
   "execution_count": null,
   "id": "84189bc9",
   "metadata": {},
   "outputs": [],
   "source": []
  }
 ],
 "metadata": {
  "kernelspec": {
   "display_name": "Python 3 (ipykernel)",
   "language": "python",
   "name": "python3"
  },
  "language_info": {
   "codemirror_mode": {
    "name": "ipython",
    "version": 3
   },
   "file_extension": ".py",
   "mimetype": "text/x-python",
   "name": "python",
   "nbconvert_exporter": "python",
   "pygments_lexer": "ipython3",
   "version": "3.8.13"
  }
 },
 "nbformat": 4,
 "nbformat_minor": 5
}
